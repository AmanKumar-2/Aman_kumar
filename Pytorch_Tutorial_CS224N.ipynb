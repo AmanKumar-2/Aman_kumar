{
  "nbformat": 4,
  "nbformat_minor": 0,
  "metadata": {
    "colab": {
      "provenance": [],
      "authorship_tag": "ABX9TyOF3+ynm41ZtZ2xUvsgZIV5",
      "include_colab_link": true
    },
    "kernelspec": {
      "name": "python3",
      "display_name": "Python 3"
    },
    "language_info": {
      "name": "python"
    }
  },
  "cells": [
    {
      "cell_type": "markdown",
      "metadata": {
        "id": "view-in-github",
        "colab_type": "text"
      },
      "source": [
        "<a href=\"https://colab.research.google.com/github/AmanKumar-2/Aman_kumar/blob/master/Pytorch_Tutorial_CS224N.ipynb\" target=\"_parent\"><img src=\"https://colab.research.google.com/assets/colab-badge.svg\" alt=\"Open In Colab\"/></a>"
      ]
    },
    {
      "cell_type": "code",
      "execution_count": 46,
      "metadata": {
        "id": "NKP77HljaudZ"
      },
      "outputs": [],
      "source": [
        "import torch\n",
        "import torch.nn as nn"
      ]
    },
    {
      "cell_type": "code",
      "source": [
        "list_of_lists = [\n",
        "    [1,2,3],\n",
        "    [4,5,6]\n",
        "]\n",
        "print(list_of_lists)"
      ],
      "metadata": {
        "colab": {
          "base_uri": "https://localhost:8080/"
        },
        "id": "krq6nx-pbRpV",
        "outputId": "3e7466da-d57f-46da-aa67-0f123232bb73"
      },
      "execution_count": 47,
      "outputs": [
        {
          "output_type": "stream",
          "name": "stdout",
          "text": [
            "[[1, 2, 3], [4, 5, 6]]\n"
          ]
        }
      ]
    },
    {
      "cell_type": "code",
      "source": [
        "data = torch.tensor([\n",
        "    [0,1],\n",
        "    [2,3],\n",
        "    [4,5]\n",
        "])\n",
        "print(data)"
      ],
      "metadata": {
        "colab": {
          "base_uri": "https://localhost:8080/"
        },
        "id": "F6wW6HurcGa2",
        "outputId": "2914e947-5e52-45ae-c688-80925b4e6279"
      },
      "execution_count": 48,
      "outputs": [
        {
          "output_type": "stream",
          "name": "stdout",
          "text": [
            "tensor([[0, 1],\n",
            "        [2, 3],\n",
            "        [4, 5]])\n"
          ]
        }
      ]
    },
    {
      "cell_type": "code",
      "source": [
        "data = torch.tensor([\n",
        "    [0,1],\n",
        "    [2,3],\n",
        "    [4,5]\n",
        "], dtype=torch.float32)\n",
        "print(data)\n",
        "print(data.shape)"
      ],
      "metadata": {
        "colab": {
          "base_uri": "https://localhost:8080/"
        },
        "id": "N5NgQ-4ScLPx",
        "outputId": "1761f23e-f1e5-4f58-977f-4f76bb00ba4e"
      },
      "execution_count": 49,
      "outputs": [
        {
          "output_type": "stream",
          "name": "stdout",
          "text": [
            "tensor([[0., 1.],\n",
            "        [2., 3.],\n",
            "        [4., 5.]])\n",
            "torch.Size([3, 2])\n"
          ]
        }
      ]
    },
    {
      "cell_type": "code",
      "source": [
        "data = torch.tensor([1])\n",
        "print(data, data.shape)\n",
        "print(data.item())"
      ],
      "metadata": {
        "colab": {
          "base_uri": "https://localhost:8080/"
        },
        "id": "2ftHyCxIqCli",
        "outputId": "69d618f3-6107-4436-a3bf-6780cb6f700c"
      },
      "execution_count": 50,
      "outputs": [
        {
          "output_type": "stream",
          "name": "stdout",
          "text": [
            "tensor([1]) torch.Size([1])\n",
            "1\n"
          ]
        }
      ]
    },
    {
      "cell_type": "code",
      "source": [
        "data = torch.tensor([1,2,3])\n",
        "print(data, data.shape)"
      ],
      "metadata": {
        "colab": {
          "base_uri": "https://localhost:8080/"
        },
        "id": "LNrlzTAzcPr7",
        "outputId": "fdcf6b79-ed84-49b4-a24c-5ec4e9db6720"
      },
      "execution_count": 51,
      "outputs": [
        {
          "output_type": "stream",
          "name": "stdout",
          "text": [
            "tensor([1, 2, 3]) torch.Size([3])\n"
          ]
        }
      ]
    },
    {
      "cell_type": "code",
      "source": [
        "data = torch.tensor([[1,2,3]])\n",
        "print(data, data.shape)"
      ],
      "metadata": {
        "colab": {
          "base_uri": "https://localhost:8080/"
        },
        "id": "BFC-nwtnce6M",
        "outputId": "009569ca-c776-4b8f-df0b-6e97a902d1eb"
      },
      "execution_count": 52,
      "outputs": [
        {
          "output_type": "stream",
          "name": "stdout",
          "text": [
            "tensor([[1, 2, 3]]) torch.Size([1, 3])\n"
          ]
        }
      ]
    },
    {
      "cell_type": "markdown",
      "source": [
        "**Utility functions to create tensors with given shape and size**"
      ],
      "metadata": {
        "id": "LpZ7A5Gcg8r-"
      }
    },
    {
      "cell_type": "code",
      "source": [
        "zeros = torch.zeros((2,3))\n",
        "print(zeros)"
      ],
      "metadata": {
        "colab": {
          "base_uri": "https://localhost:8080/"
        },
        "id": "NUEhJ03XcikF",
        "outputId": "494f5a79-d1fc-40bd-8d61-732bbd83ad89"
      },
      "execution_count": 53,
      "outputs": [
        {
          "output_type": "stream",
          "name": "stdout",
          "text": [
            "tensor([[0., 0., 0.],\n",
            "        [0., 0., 0.]])\n"
          ]
        }
      ]
    },
    {
      "cell_type": "code",
      "source": [
        "ones = torch.ones((3,4))\n",
        "print(ones)"
      ],
      "metadata": {
        "colab": {
          "base_uri": "https://localhost:8080/"
        },
        "id": "DwqGq-8HgXvW",
        "outputId": "39a983cd-0f07-48df-9c19-c741fdd4339e"
      },
      "execution_count": 54,
      "outputs": [
        {
          "output_type": "stream",
          "name": "stdout",
          "text": [
            "tensor([[1., 1., 1., 1.],\n",
            "        [1., 1., 1., 1.],\n",
            "        [1., 1., 1., 1.]])\n"
          ]
        }
      ]
    },
    {
      "cell_type": "code",
      "source": [
        "rr = torch.arange(1,10)\n",
        "print(rr, rr.shape)"
      ],
      "metadata": {
        "colab": {
          "base_uri": "https://localhost:8080/"
        },
        "id": "0d7IMKfqgbFv",
        "outputId": "fcac3ef1-2f67-43f3-9eb5-5e296c9fc891"
      },
      "execution_count": 55,
      "outputs": [
        {
          "output_type": "stream",
          "name": "stdout",
          "text": [
            "tensor([1, 2, 3, 4, 5, 6, 7, 8, 9]) torch.Size([9])\n"
          ]
        }
      ]
    },
    {
      "cell_type": "code",
      "source": [
        "rr*2"
      ],
      "metadata": {
        "colab": {
          "base_uri": "https://localhost:8080/"
        },
        "id": "qNwCAMKhghOB",
        "outputId": "d75b23a3-4698-485c-f83f-967fcb328ece"
      },
      "execution_count": 56,
      "outputs": [
        {
          "output_type": "execute_result",
          "data": {
            "text/plain": [
              "tensor([ 2,  4,  6,  8, 10, 12, 14, 16, 18])"
            ]
          },
          "metadata": {},
          "execution_count": 56
        }
      ]
    },
    {
      "cell_type": "code",
      "source": [
        "rr+2"
      ],
      "metadata": {
        "colab": {
          "base_uri": "https://localhost:8080/"
        },
        "id": "JLA9DKOHgp0p",
        "outputId": "8ab1b002-1b9a-4150-cff1-5af1eef15887"
      },
      "execution_count": 57,
      "outputs": [
        {
          "output_type": "execute_result",
          "data": {
            "text/plain": [
              "tensor([ 3,  4,  5,  6,  7,  8,  9, 10, 11])"
            ]
          },
          "metadata": {},
          "execution_count": 57
        }
      ]
    },
    {
      "cell_type": "code",
      "source": [
        "a = torch.tensor([[1,2], [2,3], [4,5]])\n",
        "b = torch.tensor([[1,2,3,4], [5,6,7,8]])\n",
        "\n",
        "print(a, a.shape)\n",
        "print(b, b.shape)\n",
        "print(torch.matmul(a,b), torch.matmul(a,b).shape)"
      ],
      "metadata": {
        "colab": {
          "base_uri": "https://localhost:8080/"
        },
        "id": "QSuTKMGegqh_",
        "outputId": "80a00cf3-0e8a-440f-a7a3-8f70b1fc70d6"
      },
      "execution_count": 58,
      "outputs": [
        {
          "output_type": "stream",
          "name": "stdout",
          "text": [
            "tensor([[1, 2],\n",
            "        [2, 3],\n",
            "        [4, 5]]) torch.Size([3, 2])\n",
            "tensor([[1, 2, 3, 4],\n",
            "        [5, 6, 7, 8]]) torch.Size([2, 4])\n",
            "tensor([[11, 14, 17, 20],\n",
            "        [17, 22, 27, 32],\n",
            "        [29, 38, 47, 56]]) torch.Size([3, 4])\n"
          ]
        }
      ]
    },
    {
      "cell_type": "code",
      "source": [
        "print(torch.mm(a,b), torch.mm(a,b).shape)"
      ],
      "metadata": {
        "colab": {
          "base_uri": "https://localhost:8080/"
        },
        "id": "F22O4YpUhrFC",
        "outputId": "b3017eaa-e992-4943-e8fe-b1475ce21fe8"
      },
      "execution_count": 59,
      "outputs": [
        {
          "output_type": "stream",
          "name": "stdout",
          "text": [
            "tensor([[11, 14, 17, 20],\n",
            "        [17, 22, 27, 32],\n",
            "        [29, 38, 47, 56]]) torch.Size([3, 4])\n"
          ]
        }
      ]
    },
    {
      "cell_type": "code",
      "source": [
        "print(a@b, (a@b).shape)"
      ],
      "metadata": {
        "colab": {
          "base_uri": "https://localhost:8080/"
        },
        "id": "qpjmrnQvhwU3",
        "outputId": "bcea8ede-8e1e-4b2f-8583-4b747887b361"
      },
      "execution_count": 60,
      "outputs": [
        {
          "output_type": "stream",
          "name": "stdout",
          "text": [
            "tensor([[11, 14, 17, 20],\n",
            "        [17, 22, 27, 32],\n",
            "        [29, 38, 47, 56]]) torch.Size([3, 4])\n"
          ]
        }
      ]
    },
    {
      "cell_type": "code",
      "source": [
        "print(a.matmul(b), a.matmul(b).shape)"
      ],
      "metadata": {
        "colab": {
          "base_uri": "https://localhost:8080/"
        },
        "id": "_aDX0DOUhy6E",
        "outputId": "559be4b9-06ec-4dcc-d57c-b00e0814739c"
      },
      "execution_count": 61,
      "outputs": [
        {
          "output_type": "stream",
          "name": "stdout",
          "text": [
            "tensor([[11, 14, 17, 20],\n",
            "        [17, 22, 27, 32],\n",
            "        [29, 38, 47, 56]]) torch.Size([3, 4])\n"
          ]
        }
      ]
    },
    {
      "cell_type": "code",
      "source": [
        "a = torch.tensor([1,2,3])\n",
        "b = torch.tensor([4,5,6])\n",
        "print(a.shape, b.shape)\n",
        "print(torch.dot(a,b), torch.dot(a,b).item(), torch.dot(a,b).shape)"
      ],
      "metadata": {
        "colab": {
          "base_uri": "https://localhost:8080/"
        },
        "id": "sSlPp0cUq2i8",
        "outputId": "aecd79eb-4255-4c1e-c5ce-64fa8d5303c7"
      },
      "execution_count": 62,
      "outputs": [
        {
          "output_type": "stream",
          "name": "stdout",
          "text": [
            "torch.Size([3]) torch.Size([3])\n",
            "tensor(32) 32 torch.Size([])\n"
          ]
        }
      ]
    },
    {
      "cell_type": "code",
      "source": [
        "a = torch.tensor([[1,2,3], [4,5,6], [7,8,9], [10,11,12]])\n",
        "b = torch.tensor([[2],[2],[2]])\n",
        "print(a.shape)\n",
        "print(b.shape)\n",
        "print(a@b, (a@b).shape)"
      ],
      "metadata": {
        "colab": {
          "base_uri": "https://localhost:8080/"
        },
        "id": "emtdiQ7lh7JW",
        "outputId": "46ceace3-1d24-422b-c814-0880cd98e7d8"
      },
      "execution_count": 63,
      "outputs": [
        {
          "output_type": "stream",
          "name": "stdout",
          "text": [
            "torch.Size([4, 3])\n",
            "torch.Size([3, 1])\n",
            "tensor([[12],\n",
            "        [30],\n",
            "        [48],\n",
            "        [66]]) torch.Size([4, 1])\n"
          ]
        }
      ]
    },
    {
      "cell_type": "code",
      "source": [
        "a = torch.tensor([[1,2,3], [4,5,6], [7,8,9], [10,11,12]])\n",
        "b = torch.tensor([2,2,2])\n",
        "print(a.shape)\n",
        "print(b.shape)\n",
        "print(a@b, (a@b).shape)"
      ],
      "metadata": {
        "colab": {
          "base_uri": "https://localhost:8080/"
        },
        "id": "H3-z427qiizb",
        "outputId": "a00fb1f2-f668-49ac-8156-6960c87a7467"
      },
      "execution_count": 64,
      "outputs": [
        {
          "output_type": "stream",
          "name": "stdout",
          "text": [
            "torch.Size([4, 3])\n",
            "torch.Size([3])\n",
            "tensor([12, 30, 48, 66]) torch.Size([4])\n"
          ]
        }
      ]
    },
    {
      "cell_type": "code",
      "source": [
        "b = torch.tensor([[2,2,2]])\n",
        "print(b)\n",
        "print(b.shape)\n",
        "print(b.T)\n",
        "print(b.T.shape)\n",
        "print(torch.mm(b,b.T))\n",
        "print(torch.mm(b,b.T).shape)"
      ],
      "metadata": {
        "colab": {
          "base_uri": "https://localhost:8080/"
        },
        "id": "NkhY8OOwkm8Q",
        "outputId": "4e050b09-3245-4e37-fcab-f4ac9728cb6f"
      },
      "execution_count": 65,
      "outputs": [
        {
          "output_type": "stream",
          "name": "stdout",
          "text": [
            "tensor([[2, 2, 2]])\n",
            "torch.Size([1, 3])\n",
            "tensor([[2],\n",
            "        [2],\n",
            "        [2]])\n",
            "torch.Size([3, 1])\n",
            "tensor([[12]])\n",
            "torch.Size([1, 1])\n"
          ]
        }
      ]
    },
    {
      "cell_type": "code",
      "source": [
        "b = torch.tensor([2,2,2])\n",
        "print(b)\n",
        "print(b.shape)\n",
        "print(b.T)\n",
        "print(b.T.shape)"
      ],
      "metadata": {
        "colab": {
          "base_uri": "https://localhost:8080/"
        },
        "id": "CfTubaT5k9Mx",
        "outputId": "0cd481fb-0be8-429c-cf4a-b523fdaa752f"
      },
      "execution_count": 66,
      "outputs": [
        {
          "output_type": "stream",
          "name": "stdout",
          "text": [
            "tensor([2, 2, 2])\n",
            "torch.Size([3])\n",
            "tensor([2, 2, 2])\n",
            "torch.Size([3])\n"
          ]
        }
      ]
    },
    {
      "cell_type": "code",
      "source": [
        "rr = torch.arange(1,16)\n",
        "print(rr.shape)\n",
        "rr = rr.reshape(5,3)\n",
        "print(rr)\n",
        "print(rr.shape)"
      ],
      "metadata": {
        "colab": {
          "base_uri": "https://localhost:8080/"
        },
        "id": "WhhXSYYklMED",
        "outputId": "f52d21f9-b8b5-4f78-d1a6-a93333453c31"
      },
      "execution_count": 67,
      "outputs": [
        {
          "output_type": "stream",
          "name": "stdout",
          "text": [
            "torch.Size([15])\n",
            "tensor([[ 1,  2,  3],\n",
            "        [ 4,  5,  6],\n",
            "        [ 7,  8,  9],\n",
            "        [10, 11, 12],\n",
            "        [13, 14, 15]])\n",
            "torch.Size([5, 3])\n"
          ]
        }
      ]
    },
    {
      "cell_type": "code",
      "source": [
        "import numpy as np\n",
        "\n",
        "arr = np.array([[0,1,5]])\n",
        "data = torch.tensor(arr)\n",
        "print(data)\n",
        "\n",
        "new_arr = data.numpy()\n",
        "print(new_arr, type(new_arr))"
      ],
      "metadata": {
        "colab": {
          "base_uri": "https://localhost:8080/"
        },
        "id": "7Zb7ToiLlVhB",
        "outputId": "6f84d21f-fa78-42b8-c451-972c031c0a64"
      },
      "execution_count": 68,
      "outputs": [
        {
          "output_type": "stream",
          "name": "stdout",
          "text": [
            "tensor([[0, 1, 5]])\n",
            "[[0 1 5]] <class 'numpy.ndarray'>\n"
          ]
        }
      ]
    },
    {
      "cell_type": "code",
      "source": [
        "data = torch.arange(1,36, dtype=torch.float32).reshape(5,7)\n",
        "print(\"The data is \", data)\n",
        "\n",
        "print(\"The sum over columns is \", data.sum(dim=0), data.sum(dim=0).shape)\n",
        "print(\"The sum over rows is \", data.sum(dim=1), data.sum(dim=1).shape)\n",
        "print(\"The mean over columns is \", data.mean(dim=0), data.mean(dim=0).shape)\n",
        "print(\"The mean over rows is \", data.mean(dim=1), data.mean(dim=1).shape)\n",
        "# Gives values and indices\n",
        "print(\"The median over columns is \", data.median(dim=0), data.median(dim=0).values.shape)\n",
        "print(\"The median over rows is \", data.median(dim=1), data.median(dim=1).values.shape)"
      ],
      "metadata": {
        "colab": {
          "base_uri": "https://localhost:8080/"
        },
        "id": "vCHO1qHEmkMi",
        "outputId": "be5642bc-281c-4c28-b547-0f7506a879a6"
      },
      "execution_count": 69,
      "outputs": [
        {
          "output_type": "stream",
          "name": "stdout",
          "text": [
            "The data is  tensor([[ 1.,  2.,  3.,  4.,  5.,  6.,  7.],\n",
            "        [ 8.,  9., 10., 11., 12., 13., 14.],\n",
            "        [15., 16., 17., 18., 19., 20., 21.],\n",
            "        [22., 23., 24., 25., 26., 27., 28.],\n",
            "        [29., 30., 31., 32., 33., 34., 35.]])\n",
            "The sum over columns is  tensor([ 75.,  80.,  85.,  90.,  95., 100., 105.]) torch.Size([7])\n",
            "The sum over rows is  tensor([ 28.,  77., 126., 175., 224.]) torch.Size([5])\n",
            "The mean over columns is  tensor([15., 16., 17., 18., 19., 20., 21.]) torch.Size([7])\n",
            "The mean over rows is  tensor([ 4., 11., 18., 25., 32.]) torch.Size([5])\n",
            "The median over columns is  torch.return_types.median(\n",
            "values=tensor([15., 16., 17., 18., 19., 20., 21.]),\n",
            "indices=tensor([2, 2, 2, 2, 2, 2, 2])) torch.Size([7])\n",
            "The median over rows is  torch.return_types.median(\n",
            "values=tensor([ 4., 11., 18., 25., 32.]),\n",
            "indices=tensor([3, 3, 3, 3, 3])) torch.Size([5])\n"
          ]
        }
      ]
    },
    {
      "cell_type": "code",
      "source": [
        "print(data.sum(), data.sum().shape)"
      ],
      "metadata": {
        "colab": {
          "base_uri": "https://localhost:8080/"
        },
        "id": "SQzmlEBjm6_y",
        "outputId": "9f859dcc-f037-429d-b0e0-8e2fce6de3fe"
      },
      "execution_count": 70,
      "outputs": [
        {
          "output_type": "stream",
          "name": "stdout",
          "text": [
            "tensor(630.) torch.Size([])\n"
          ]
        }
      ]
    },
    {
      "cell_type": "code",
      "source": [
        "x = torch.tensor([\n",
        "    [[1,2], [3,4]],\n",
        "    [[5,6], [7,8]],\n",
        "    [[9,10], [11,12]]\n",
        "])\n",
        "\n",
        "print(x, x.shape)"
      ],
      "metadata": {
        "colab": {
          "base_uri": "https://localhost:8080/"
        },
        "id": "Gs66E3klnxHN",
        "outputId": "26789196-eb60-4c93-cb4a-30e1e057f98d"
      },
      "execution_count": 71,
      "outputs": [
        {
          "output_type": "stream",
          "name": "stdout",
          "text": [
            "tensor([[[ 1,  2],\n",
            "         [ 3,  4]],\n",
            "\n",
            "        [[ 5,  6],\n",
            "         [ 7,  8]],\n",
            "\n",
            "        [[ 9, 10],\n",
            "         [11, 12]]]) torch.Size([3, 2, 2])\n"
          ]
        }
      ]
    },
    {
      "cell_type": "code",
      "source": [
        "x[0] #similar to x[0,:]"
      ],
      "metadata": {
        "colab": {
          "base_uri": "https://localhost:8080/"
        },
        "id": "ySDFBuBIttXc",
        "outputId": "2356ad23-2144-45d8-89f6-a3219e31df1f"
      },
      "execution_count": 72,
      "outputs": [
        {
          "output_type": "execute_result",
          "data": {
            "text/plain": [
              "tensor([[1, 2],\n",
              "        [3, 4]])"
            ]
          },
          "metadata": {},
          "execution_count": 72
        }
      ]
    },
    {
      "cell_type": "code",
      "source": [
        "x[0,0]"
      ],
      "metadata": {
        "colab": {
          "base_uri": "https://localhost:8080/"
        },
        "id": "Xk_dlCAUuZ6h",
        "outputId": "09b3e9ea-6db3-4021-d46d-74eb61fed78e"
      },
      "execution_count": 73,
      "outputs": [
        {
          "output_type": "execute_result",
          "data": {
            "text/plain": [
              "tensor([1, 2])"
            ]
          },
          "metadata": {},
          "execution_count": 73
        }
      ]
    },
    {
      "cell_type": "code",
      "source": [
        "x[1,0]"
      ],
      "metadata": {
        "colab": {
          "base_uri": "https://localhost:8080/"
        },
        "id": "ly2WbilHudQb",
        "outputId": "6bbb2f60-85d9-4a2e-ca01-fea04869e9c6"
      },
      "execution_count": 74,
      "outputs": [
        {
          "output_type": "execute_result",
          "data": {
            "text/plain": [
              "tensor([5, 6])"
            ]
          },
          "metadata": {},
          "execution_count": 74
        }
      ]
    },
    {
      "cell_type": "code",
      "source": [
        "x[2,0]"
      ],
      "metadata": {
        "colab": {
          "base_uri": "https://localhost:8080/"
        },
        "id": "6Pf0oJNVue-L",
        "outputId": "6d3b8f68-f365-47f5-d084-731673a7db88"
      },
      "execution_count": 75,
      "outputs": [
        {
          "output_type": "execute_result",
          "data": {
            "text/plain": [
              "tensor([ 9, 10])"
            ]
          },
          "metadata": {},
          "execution_count": 75
        }
      ]
    },
    {
      "cell_type": "code",
      "source": [
        "x[:,0]"
      ],
      "metadata": {
        "colab": {
          "base_uri": "https://localhost:8080/"
        },
        "id": "FAhW7Efft80H",
        "outputId": "15cba46a-6222-40e0-f156-4f9a4a9d8373"
      },
      "execution_count": 76,
      "outputs": [
        {
          "output_type": "execute_result",
          "data": {
            "text/plain": [
              "tensor([[ 1,  2],\n",
              "        [ 5,  6],\n",
              "        [ 9, 10]])"
            ]
          },
          "metadata": {},
          "execution_count": 76
        }
      ]
    },
    {
      "cell_type": "code",
      "source": [
        "matrix = torch.arange(1,16).view(5,3)\n",
        "print(matrix, matrix.shape)"
      ],
      "metadata": {
        "colab": {
          "base_uri": "https://localhost:8080/"
        },
        "id": "KlFajFZquB9b",
        "outputId": "b7a2b5d8-529e-4bb2-ca36-608474c3c158"
      },
      "execution_count": 77,
      "outputs": [
        {
          "output_type": "stream",
          "name": "stdout",
          "text": [
            "tensor([[ 1,  2,  3],\n",
            "        [ 4,  5,  6],\n",
            "        [ 7,  8,  9],\n",
            "        [10, 11, 12],\n",
            "        [13, 14, 15]]) torch.Size([5, 3])\n"
          ]
        }
      ]
    },
    {
      "cell_type": "code",
      "source": [
        "matrix[:, 0]"
      ],
      "metadata": {
        "colab": {
          "base_uri": "https://localhost:8080/"
        },
        "id": "8tFcxixXuqVF",
        "outputId": "4390b5c2-8216-44b1-9f87-ddf10163b485"
      },
      "execution_count": 78,
      "outputs": [
        {
          "output_type": "execute_result",
          "data": {
            "text/plain": [
              "tensor([ 1,  4,  7, 10, 13])"
            ]
          },
          "metadata": {},
          "execution_count": 78
        }
      ]
    },
    {
      "cell_type": "code",
      "source": [
        "matrix[0:3]"
      ],
      "metadata": {
        "colab": {
          "base_uri": "https://localhost:8080/"
        },
        "id": "x68FR4tDuvo8",
        "outputId": "d8dec236-b224-4ab7-be1f-df30eb747718"
      },
      "execution_count": 79,
      "outputs": [
        {
          "output_type": "execute_result",
          "data": {
            "text/plain": [
              "tensor([[1, 2, 3],\n",
              "        [4, 5, 6],\n",
              "        [7, 8, 9]])"
            ]
          },
          "metadata": {},
          "execution_count": 79
        }
      ]
    },
    {
      "cell_type": "code",
      "source": [
        "matrix[:,0:2]"
      ],
      "metadata": {
        "colab": {
          "base_uri": "https://localhost:8080/"
        },
        "id": "upu82mOQux9O",
        "outputId": "fb6d88ef-be54-4054-cd7c-ea909e923492"
      },
      "execution_count": 80,
      "outputs": [
        {
          "output_type": "execute_result",
          "data": {
            "text/plain": [
              "tensor([[ 1,  2],\n",
              "        [ 4,  5],\n",
              "        [ 7,  8],\n",
              "        [10, 11],\n",
              "        [13, 14]])"
            ]
          },
          "metadata": {},
          "execution_count": 80
        }
      ]
    },
    {
      "cell_type": "code",
      "source": [
        "matrix[0:3,0:2]"
      ],
      "metadata": {
        "colab": {
          "base_uri": "https://localhost:8080/"
        },
        "id": "nB1e5qY2vKJS",
        "outputId": "78f890b5-ea31-4867-8a73-9bd8d5ab95d3"
      },
      "execution_count": 81,
      "outputs": [
        {
          "output_type": "execute_result",
          "data": {
            "text/plain": [
              "tensor([[1, 2],\n",
              "        [4, 5],\n",
              "        [7, 8]])"
            ]
          },
          "metadata": {},
          "execution_count": 81
        }
      ]
    },
    {
      "cell_type": "code",
      "source": [
        "matrix[0][2]"
      ],
      "metadata": {
        "colab": {
          "base_uri": "https://localhost:8080/"
        },
        "id": "ZEbpepeFvQa5",
        "outputId": "456d976f-65f9-485d-c74f-7b94c184cc54"
      },
      "execution_count": 82,
      "outputs": [
        {
          "output_type": "execute_result",
          "data": {
            "text/plain": [
              "tensor(3)"
            ]
          },
          "metadata": {},
          "execution_count": 82
        }
      ]
    },
    {
      "cell_type": "code",
      "source": [
        "matrix[0:3][2]"
      ],
      "metadata": {
        "colab": {
          "base_uri": "https://localhost:8080/"
        },
        "id": "JkHqiUeYvXEg",
        "outputId": "f1ce1738-fe97-4780-f3e8-e6ffc72d88f5"
      },
      "execution_count": 83,
      "outputs": [
        {
          "output_type": "execute_result",
          "data": {
            "text/plain": [
              "tensor([7, 8, 9])"
            ]
          },
          "metadata": {},
          "execution_count": 83
        }
      ]
    },
    {
      "cell_type": "code",
      "source": [
        "matrix[[0,2,4]]"
      ],
      "metadata": {
        "colab": {
          "base_uri": "https://localhost:8080/"
        },
        "id": "mLDracdZvY-N",
        "outputId": "1d040e37-ae5c-4b7c-f940-6d2ffb6ec08e"
      },
      "execution_count": 84,
      "outputs": [
        {
          "output_type": "execute_result",
          "data": {
            "text/plain": [
              "tensor([[ 1,  2,  3],\n",
              "        [ 7,  8,  9],\n",
              "        [13, 14, 15]])"
            ]
          },
          "metadata": {},
          "execution_count": 84
        }
      ]
    },
    {
      "cell_type": "code",
      "source": [
        "x = torch.tensor([\n",
        "    [[1,2], [3,4]],\n",
        "    [[5,6], [7,8]],\n",
        "    [[9,10], [11,12]]\n",
        "])\n",
        "\n",
        "print(x, x.shape)"
      ],
      "metadata": {
        "colab": {
          "base_uri": "https://localhost:8080/"
        },
        "id": "UowmWUeWvtiQ",
        "outputId": "9bfbebf5-3f9a-404b-a010-c386f95f0bb4"
      },
      "execution_count": 85,
      "outputs": [
        {
          "output_type": "stream",
          "name": "stdout",
          "text": [
            "tensor([[[ 1,  2],\n",
            "         [ 3,  4]],\n",
            "\n",
            "        [[ 5,  6],\n",
            "         [ 7,  8]],\n",
            "\n",
            "        [[ 9, 10],\n",
            "         [11, 12]]]) torch.Size([3, 2, 2])\n"
          ]
        }
      ]
    },
    {
      "cell_type": "code",
      "source": [
        "x[:,:,1]"
      ],
      "metadata": {
        "colab": {
          "base_uri": "https://localhost:8080/"
        },
        "id": "ISKhkeGtv-7-",
        "outputId": "caf28a40-7310-4f84-ca38-8d709cca68c7"
      },
      "execution_count": 86,
      "outputs": [
        {
          "output_type": "execute_result",
          "data": {
            "text/plain": [
              "tensor([[ 2,  4],\n",
              "        [ 6,  8],\n",
              "        [10, 12]])"
            ]
          },
          "metadata": {},
          "execution_count": 86
        }
      ]
    },
    {
      "cell_type": "code",
      "source": [
        "x[:,:,:]"
      ],
      "metadata": {
        "colab": {
          "base_uri": "https://localhost:8080/"
        },
        "id": "5xYxjxNqwGE4",
        "outputId": "1fbdf76e-d056-4e3f-e175-5d09761c0c93"
      },
      "execution_count": 87,
      "outputs": [
        {
          "output_type": "execute_result",
          "data": {
            "text/plain": [
              "tensor([[[ 1,  2],\n",
              "         [ 3,  4]],\n",
              "\n",
              "        [[ 5,  6],\n",
              "         [ 7,  8]],\n",
              "\n",
              "        [[ 9, 10],\n",
              "         [11, 12]]])"
            ]
          },
          "metadata": {},
          "execution_count": 87
        }
      ]
    },
    {
      "cell_type": "code",
      "source": [
        "x[:,0,0]"
      ],
      "metadata": {
        "colab": {
          "base_uri": "https://localhost:8080/"
        },
        "id": "-FAo7NXMwJv1",
        "outputId": "4a595c75-9f84-4ea0-a271-910d7e90127f"
      },
      "execution_count": 88,
      "outputs": [
        {
          "output_type": "execute_result",
          "data": {
            "text/plain": [
              "tensor([1, 5, 9])"
            ]
          },
          "metadata": {},
          "execution_count": 88
        }
      ]
    },
    {
      "cell_type": "code",
      "source": [
        "x[0,0,0]"
      ],
      "metadata": {
        "colab": {
          "base_uri": "https://localhost:8080/"
        },
        "id": "-BPQksOmwQL1",
        "outputId": "13d279f5-ca33-4617-9575-804fb78af426"
      },
      "execution_count": 89,
      "outputs": [
        {
          "output_type": "execute_result",
          "data": {
            "text/plain": [
              "tensor(1)"
            ]
          },
          "metadata": {},
          "execution_count": 89
        }
      ]
    },
    {
      "cell_type": "code",
      "source": [
        "x[0,0,0].item()"
      ],
      "metadata": {
        "colab": {
          "base_uri": "https://localhost:8080/"
        },
        "id": "-4dQubmwwT-3",
        "outputId": "613f5eee-5673-4f67-a7d9-d18b94c4c943"
      },
      "execution_count": 90,
      "outputs": [
        {
          "output_type": "execute_result",
          "data": {
            "text/plain": [
              "1"
            ]
          },
          "metadata": {},
          "execution_count": 90
        }
      ]
    },
    {
      "cell_type": "markdown",
      "source": [
        "**Autograd**"
      ],
      "metadata": {
        "id": "N6k9EfYVHiQU"
      }
    },
    {
      "cell_type": "code",
      "source": [
        "x = torch.tensor([2.], requires_grad=True)\n",
        "print(x.grad)"
      ],
      "metadata": {
        "id": "Wn31_p-Hspln",
        "colab": {
          "base_uri": "https://localhost:8080/"
        },
        "outputId": "24ca7ff0-5f27-4e58-acdd-0fbd2dd1866f"
      },
      "execution_count": 92,
      "outputs": [
        {
          "output_type": "stream",
          "name": "stdout",
          "text": [
            "None\n"
          ]
        }
      ]
    },
    {
      "cell_type": "code",
      "source": [
        "y = x*x*3\n",
        "y.backward()\n",
        "print(x.grad)"
      ],
      "metadata": {
        "colab": {
          "base_uri": "https://localhost:8080/"
        },
        "id": "OV3JZ7SyHor2",
        "outputId": "8aba8b1e-35f8-4754-d8cf-15ec48ed148c"
      },
      "execution_count": 93,
      "outputs": [
        {
          "output_type": "stream",
          "name": "stdout",
          "text": [
            "tensor([12.])\n"
          ]
        }
      ]
    },
    {
      "cell_type": "code",
      "source": [
        "z = x*x*3\n",
        "z.backward()\n",
        "print(x.grad)"
      ],
      "metadata": {
        "colab": {
          "base_uri": "https://localhost:8080/"
        },
        "id": "gjL1eG4YH2oh",
        "outputId": "7dce3ea3-9c9c-4db7-a216-42570149401e"
      },
      "execution_count": 94,
      "outputs": [
        {
          "output_type": "stream",
          "name": "stdout",
          "text": [
            "tensor([24.])\n"
          ]
        }
      ]
    },
    {
      "cell_type": "markdown",
      "source": [
        "**Neural Network Module**"
      ],
      "metadata": {
        "id": "thXSzP3JJ5ix"
      }
    },
    {
      "cell_type": "code",
      "source": [
        "import torch.nn as nn"
      ],
      "metadata": {
        "id": "9botYU7nInuv"
      },
      "execution_count": 95,
      "outputs": []
    },
    {
      "cell_type": "markdown",
      "source": [
        "**Linear Layer**"
      ],
      "metadata": {
        "id": "bQSDApYPK-Mi"
      }
    },
    {
      "cell_type": "code",
      "source": [
        "input = torch.ones(2,3,4)\n",
        "print(input, input.shape)"
      ],
      "metadata": {
        "colab": {
          "base_uri": "https://localhost:8080/"
        },
        "id": "xefJFyX5K9t1",
        "outputId": "7e55268e-e11c-4d7c-a3ca-28088f8a653a"
      },
      "execution_count": 96,
      "outputs": [
        {
          "output_type": "stream",
          "name": "stdout",
          "text": [
            "tensor([[[1., 1., 1., 1.],\n",
            "         [1., 1., 1., 1.],\n",
            "         [1., 1., 1., 1.]],\n",
            "\n",
            "        [[1., 1., 1., 1.],\n",
            "         [1., 1., 1., 1.],\n",
            "         [1., 1., 1., 1.]]]) torch.Size([2, 3, 4])\n"
          ]
        }
      ]
    },
    {
      "cell_type": "code",
      "source": [
        "linear = nn.Linear(4,2)\n",
        "linear_output = linear(input)\n",
        "print(linear_output, linear_output.shape)"
      ],
      "metadata": {
        "colab": {
          "base_uri": "https://localhost:8080/"
        },
        "id": "0rLtVRv-LR5g",
        "outputId": "cfc31343-7c41-447e-b754-32635749b5e5"
      },
      "execution_count": 97,
      "outputs": [
        {
          "output_type": "stream",
          "name": "stdout",
          "text": [
            "tensor([[[-1.0164,  0.0982],\n",
            "         [-1.0164,  0.0982],\n",
            "         [-1.0164,  0.0982]],\n",
            "\n",
            "        [[-1.0164,  0.0982],\n",
            "         [-1.0164,  0.0982],\n",
            "         [-1.0164,  0.0982]]], grad_fn=<ViewBackward0>) torch.Size([2, 3, 2])\n"
          ]
        }
      ]
    },
    {
      "cell_type": "code",
      "source": [
        "list(linear.parameters())"
      ],
      "metadata": {
        "colab": {
          "base_uri": "https://localhost:8080/"
        },
        "id": "_fkUKk7lLjRS",
        "outputId": "6d15e771-b4e5-443b-907d-2654bae2c62f"
      },
      "execution_count": 98,
      "outputs": [
        {
          "output_type": "execute_result",
          "data": {
            "text/plain": [
              "[Parameter containing:\n",
              " tensor([[-0.3972, -0.4274, -0.3425, -0.2608],\n",
              "         [-0.0294, -0.4572,  0.4615,  0.2650]], requires_grad=True),\n",
              " Parameter containing:\n",
              " tensor([ 0.4115, -0.1417], requires_grad=True)]"
            ]
          },
          "metadata": {},
          "execution_count": 98
        }
      ]
    },
    {
      "cell_type": "code",
      "source": [
        "linear_output"
      ],
      "metadata": {
        "colab": {
          "base_uri": "https://localhost:8080/"
        },
        "id": "g7UIrZv_NPC2",
        "outputId": "57998a33-f566-4469-dd91-3ab907440fe8"
      },
      "execution_count": 99,
      "outputs": [
        {
          "output_type": "execute_result",
          "data": {
            "text/plain": [
              "tensor([[[-1.0164,  0.0982],\n",
              "         [-1.0164,  0.0982],\n",
              "         [-1.0164,  0.0982]],\n",
              "\n",
              "        [[-1.0164,  0.0982],\n",
              "         [-1.0164,  0.0982],\n",
              "         [-1.0164,  0.0982]]], grad_fn=<ViewBackward0>)"
            ]
          },
          "metadata": {},
          "execution_count": 99
        }
      ]
    },
    {
      "cell_type": "code",
      "source": [
        "sigmoid = nn.Sigmoid()\n",
        "output = sigmoid(linear_output)\n",
        "output"
      ],
      "metadata": {
        "colab": {
          "base_uri": "https://localhost:8080/"
        },
        "id": "2oTr1bfLPU6Z",
        "outputId": "1262cb76-34ef-4e90-899f-1ac4f6586bbb"
      },
      "execution_count": 100,
      "outputs": [
        {
          "output_type": "execute_result",
          "data": {
            "text/plain": [
              "tensor([[[0.2657, 0.5245],\n",
              "         [0.2657, 0.5245],\n",
              "         [0.2657, 0.5245]],\n",
              "\n",
              "        [[0.2657, 0.5245],\n",
              "         [0.2657, 0.5245],\n",
              "         [0.2657, 0.5245]]], grad_fn=<SigmoidBackward0>)"
            ]
          },
          "metadata": {},
          "execution_count": 100
        }
      ]
    },
    {
      "cell_type": "code",
      "source": [
        "block = nn.Sequential(\n",
        "    nn.Linear(4,2),\n",
        "    nn.Sigmoid()\n",
        ")\n",
        "\n",
        "input = torch.ones(2,3,4)\n",
        "output = block(input)\n",
        "output"
      ],
      "metadata": {
        "colab": {
          "base_uri": "https://localhost:8080/"
        },
        "id": "R0co66o7PZQL",
        "outputId": "f99e720b-0eb8-4208-a81a-7d26e52a1f4e"
      },
      "execution_count": 101,
      "outputs": [
        {
          "output_type": "execute_result",
          "data": {
            "text/plain": [
              "tensor([[[0.4912, 0.5804],\n",
              "         [0.4912, 0.5804],\n",
              "         [0.4912, 0.5804]],\n",
              "\n",
              "        [[0.4912, 0.5804],\n",
              "         [0.4912, 0.5804],\n",
              "         [0.4912, 0.5804]]], grad_fn=<SigmoidBackward0>)"
            ]
          },
          "metadata": {},
          "execution_count": 101
        }
      ]
    },
    {
      "cell_type": "markdown",
      "source": [
        "**Custom Modules**"
      ],
      "metadata": {
        "id": "x71RcBOWPq_q"
      }
    },
    {
      "cell_type": "code",
      "source": [
        "class MultilayerPerceptron(nn.Module):\n",
        "  def __init__(self, input_size, hidden_size):\n",
        "    super(MultilayerPerceptron, self).__init__()\n",
        "    self.input_size = input_size\n",
        "    self.hidden_size = hidden_size\n",
        "\n",
        "    self.model = nn.Sequential(\n",
        "        nn.Linear(self.input,size, self.hidden_size),\n",
        "        nn.RelU(),\n",
        "        nn.Linear(self.hidden_size, self.input_size),\n",
        "        nn.Sigmoid()\n",
        "    )\n",
        "\n",
        "  def forward(self, x):\n",
        "    output = self.model(x)\n",
        "    return output"
      ],
      "metadata": {
        "id": "uBK9Pds3Ppk3"
      },
      "execution_count": 103,
      "outputs": []
    },
    {
      "cell_type": "code",
      "source": [
        "class MultilayerPerceptron(nn.Module):\n",
        "  def __init__(self, input_size, hidden_size):\n",
        "    super(MultilayerPerceptron, self).__init__()\n",
        "    self.input_size = input_size\n",
        "    self.hidden_size = hidden_size\n",
        "    self.linear1 = nn.Linear(self.input_size, self.hidden_size)\n",
        "    self.relu = nn.ReLU()\n",
        "    self.linear2 = nn.Linear(self.hidden_size, self.input_size)\n",
        "    self.sigmoid = nn.Sigmoid()\n",
        "\n",
        "\n",
        "  def forward(self, x):\n",
        "    x = self.linear1(x)\n",
        "    x = self.relu(x)\n",
        "    x = self.linear2(x)\n",
        "    x = self.sigmoid(x)\n",
        "    return x"
      ],
      "metadata": {
        "id": "dTVP2FkPQQ1j"
      },
      "execution_count": 104,
      "outputs": []
    },
    {
      "cell_type": "code",
      "source": [
        "input = torch.randn(2,5)\n",
        "\n",
        "model = MultilayerPerceptron(5,3)\n",
        "\n",
        "model(input)"
      ],
      "metadata": {
        "colab": {
          "base_uri": "https://localhost:8080/"
        },
        "id": "dVXkgyRQQxje",
        "outputId": "b85a3b3f-c854-4230-c6f4-4d63e9954b76"
      },
      "execution_count": 105,
      "outputs": [
        {
          "output_type": "execute_result",
          "data": {
            "text/plain": [
              "tensor([[0.4772, 0.6915, 0.5543, 0.5245, 0.4042],\n",
              "        [0.3865, 0.6564, 0.7122, 0.6700, 0.4037]], grad_fn=<SigmoidBackward0>)"
            ]
          },
          "metadata": {},
          "execution_count": 105
        }
      ]
    },
    {
      "cell_type": "code",
      "source": [
        "list(model.named_parameters())"
      ],
      "metadata": {
        "colab": {
          "base_uri": "https://localhost:8080/"
        },
        "id": "nIwCtJ_iQ5ZN",
        "outputId": "c03c8944-0312-4bd6-e9d2-61d6cb0225c8"
      },
      "execution_count": 106,
      "outputs": [
        {
          "output_type": "execute_result",
          "data": {
            "text/plain": [
              "[('linear1.weight',\n",
              "  Parameter containing:\n",
              "  tensor([[-0.3645,  0.1765, -0.1012,  0.3358, -0.4011],\n",
              "          [-0.2717, -0.2724, -0.2398, -0.0657,  0.0569],\n",
              "          [-0.4181,  0.1805, -0.3854, -0.4055,  0.1913]], requires_grad=True)),\n",
              " ('linear1.bias',\n",
              "  Parameter containing:\n",
              "  tensor([ 0.0581,  0.2696, -0.2771], requires_grad=True)),\n",
              " ('linear2.weight',\n",
              "  Parameter containing:\n",
              "  tensor([[-0.4383, -0.2974,  0.5213],\n",
              "          [ 0.0312,  0.2775,  0.0120],\n",
              "          [ 0.4520, -0.1138,  0.0317],\n",
              "          [ 0.2889, -0.3071, -0.5403],\n",
              "          [ 0.0896,  0.1675,  0.0285]], requires_grad=True)),\n",
              " ('linear2.bias',\n",
              "  Parameter containing:\n",
              "  tensor([ 0.2436,  0.4950,  0.3464,  0.4440, -0.5767], requires_grad=True))]"
            ]
          },
          "metadata": {},
          "execution_count": 106
        }
      ]
    },
    {
      "cell_type": "markdown",
      "source": [
        "**Optimizers**"
      ],
      "metadata": {
        "id": "hU6X_c6aStNx"
      }
    },
    {
      "cell_type": "code",
      "source": [
        "import torch.optim as optim"
      ],
      "metadata": {
        "id": "QteXGQ-iRAKj"
      },
      "execution_count": 107,
      "outputs": []
    },
    {
      "cell_type": "code",
      "source": [
        "y = torch.ones(10,5)\n",
        "x = y + torch.randn_like(y)\n",
        "x"
      ],
      "metadata": {
        "colab": {
          "base_uri": "https://localhost:8080/"
        },
        "id": "2nVjamgBSs0X",
        "outputId": "ac02b84e-ac34-4b47-9169-f68475af4035"
      },
      "execution_count": 108,
      "outputs": [
        {
          "output_type": "execute_result",
          "data": {
            "text/plain": [
              "tensor([[ 2.4883,  1.3272,  0.9712,  0.7019,  1.4703],\n",
              "        [ 2.3493, -1.3685, -0.3920,  0.7319,  0.3362],\n",
              "        [ 0.2657,  1.7910,  0.9538,  1.2818,  1.3778],\n",
              "        [ 1.8593,  2.6258,  0.7403,  1.5173, -0.6172],\n",
              "        [ 0.3177,  0.3208,  1.5935,  0.1309,  2.7052],\n",
              "        [ 1.0160,  1.0395, -0.7936, -0.0391,  2.3262],\n",
              "        [ 0.4479, -1.3347,  0.8653,  1.5221,  1.5586],\n",
              "        [-0.1539,  1.7663,  0.7537,  1.9975, -0.0279],\n",
              "        [ 1.8032,  1.5384,  1.3004,  1.0128, -0.4016],\n",
              "        [ 0.8326,  1.6230,  0.6778,  1.4901,  2.8673]])"
            ]
          },
          "metadata": {},
          "execution_count": 108
        }
      ]
    },
    {
      "cell_type": "code",
      "source": [
        "model = MultilayerPerceptron(5,3)\n",
        "adam = optim.Adam(model.parameters(), lr=1e-1)\n",
        "loss_function = nn.BCELoss()\n",
        "\n",
        "y_pred = model(x)\n",
        "loss_function(y_pred, y).item()"
      ],
      "metadata": {
        "colab": {
          "base_uri": "https://localhost:8080/"
        },
        "id": "KhQ-qE96S0jP",
        "outputId": "504c77c4-b467-4b92-961a-c63f13a8800b"
      },
      "execution_count": 109,
      "outputs": [
        {
          "output_type": "execute_result",
          "data": {
            "text/plain": [
              "0.6946380138397217"
            ]
          },
          "metadata": {},
          "execution_count": 109
        }
      ]
    },
    {
      "cell_type": "code",
      "source": [
        "print(y.shape, y_pred.shape)"
      ],
      "metadata": {
        "colab": {
          "base_uri": "https://localhost:8080/"
        },
        "id": "UKWo9djATQ1K",
        "outputId": "124f35a4-243b-421a-ed4c-f2d2eb908a17"
      },
      "execution_count": 110,
      "outputs": [
        {
          "output_type": "stream",
          "name": "stdout",
          "text": [
            "torch.Size([10, 5]) torch.Size([10, 5])\n"
          ]
        }
      ]
    },
    {
      "cell_type": "code",
      "source": [
        "n_epoch = 10\n",
        "\n",
        "for epoch in range(n_epoch):\n",
        "  adam.zero_grad()\n",
        "\n",
        "  y_pred = model(x)\n",
        "\n",
        "  loss = loss_function(y_pred, y)\n",
        "  print(f\"Epoch {epoch}, and training loss: {loss}\")\n",
        "\n",
        "  loss.backward()\n",
        "\n",
        "  adam.step()"
      ],
      "metadata": {
        "colab": {
          "base_uri": "https://localhost:8080/"
        },
        "id": "CCxviNNbTYca",
        "outputId": "930cca26-50bb-4dde-f656-36c82f5b4294"
      },
      "execution_count": 111,
      "outputs": [
        {
          "output_type": "stream",
          "name": "stdout",
          "text": [
            "Epoch 0, and training loss: 0.6946380138397217\n",
            "Epoch 1, and training loss: 0.5797908902168274\n",
            "Epoch 2, and training loss: 0.46371349692344666\n",
            "Epoch 3, and training loss: 0.34473228454589844\n",
            "Epoch 4, and training loss: 0.240130215883255\n",
            "Epoch 5, and training loss: 0.1535295844078064\n",
            "Epoch 6, and training loss: 0.09326957911252975\n",
            "Epoch 7, and training loss: 0.054450150579214096\n",
            "Epoch 8, and training loss: 0.03093118965625763\n",
            "Epoch 9, and training loss: 0.017333859577775\n"
          ]
        }
      ]
    },
    {
      "cell_type": "code",
      "source": [],
      "metadata": {
        "id": "xWY-eBMiTrmj"
      },
      "execution_count": null,
      "outputs": []
    }
  ]
}